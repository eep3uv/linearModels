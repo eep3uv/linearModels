{
  "cells": [
    {
      "cell_type": "markdown",
      "metadata": {
        "vscode": {
          "languageId": "bat"
        },
        "id": "kNUqP2vizEkj"
      },
      "source": [
        "# Hedonic Pricing\n",
        "\n",
        "We often try to predict the price of an asset from its observable characteristics. This is generally called **hedonic pricing**: How do the unit's characteristics determine its market price?\n",
        "\n",
        "In the lab folder, there are three options: housing prices in pierce_county_house_sales.csv, car prices in cars_hw.csv, and airbnb rental prices in airbnb_hw.csv. If you know of another suitable dataset, please feel free to use that one.\n",
        "\n",
        "1. Clean the data and perform some EDA and visualization to get to know the data set.\n",
        "2. Transform your variables --- particularly categorical ones --- for use in your regression analysis.\n",
        "3. Implement an ~80/~20 train-test split. Put the test data aside.\n",
        "4. Build some simple linear models that include no transformations or interactions. Fit them, and determine their RMSE and $R^2$ on the both the training and test sets. Which of your models does the best?\n",
        "5. Make partial correlation plots for each of the numeric variables in your model. Do you notice any significant non-linearities?\n",
        "6. Include transformations and interactions of your variables, and build a more complex model that reflects your ideas about how the features of the asset determine its value. Determine its RMSE and $R^2$ on the training and test sets. How does the more complex model your build compare to the simpler ones?\n",
        "7. Summarize your results from 1 to 6. Have you learned anything about overfitting and underfitting, or model selection?\n",
        "8. If you have time, use the sklearn.linear_model.Lasso to regularize your model and select the most predictive features. Which does it select? What are the RMSE and $R^2$? We'll cover the Lasso later in detail in class."
      ]
    },
    {
      "cell_type": "code",
      "source": [
        "! git clone https://github.com/ds4e/linearModels"
      ],
      "metadata": {
        "id": "AXJKP4H7zF3n",
        "outputId": "a30fa7b8-fbc4-4c23-e0a4-527f0fe9dfd9",
        "colab": {
          "base_uri": "https://localhost:8080/"
        }
      },
      "execution_count": 1,
      "outputs": [
        {
          "output_type": "stream",
          "name": "stdout",
          "text": [
            "Cloning into 'linearModels'...\n",
            "remote: Enumerating objects: 43, done.\u001b[K\n",
            "remote: Counting objects: 100% (16/16), done.\u001b[K\n",
            "remote: Compressing objects: 100% (11/11), done.\u001b[K\n",
            "remote: Total 43 (delta 9), reused 5 (delta 5), pack-reused 27 (from 1)\u001b[K\n",
            "Receiving objects: 100% (43/43), 3.60 MiB | 5.75 MiB/s, done.\n",
            "Resolving deltas: 100% (9/9), done.\n"
          ]
        }
      ]
    },
    {
      "cell_type": "code",
      "source": [
        "import pandas as pd\n",
        "import numpy as np\n",
        "import matplotlib.pyplot as plt\n",
        "import seaborn as sns\n",
        "\n",
        "# Load the dataset\n",
        "df = pd.read_csv('/content/linearModels/lab/data/cars_hw.csv')\n",
        "\n",
        "# Inspect the first few rows\n",
        "print(df.head())\n",
        "\n",
        "# Check for missing values\n",
        "print(df.isnull().sum())\n",
        "\n",
        "# Handle missing values (for simplicity, we drop rows with missing values)\n",
        "df = df.dropna()\n",
        "\n",
        "# Check the data types\n",
        "print(df.dtypes)\n",
        "\n",
        "# Display descriptive statistics for numerical variables\n",
        "print(df.describe())\n",
        "\n",
        "# --- One-Hot Encoding for Categorical Columns ---\n",
        "# Identify categorical columns\n",
        "categorical_columns = ['Make', 'Color', 'Body_Type', 'Fuel_Type', 'Transmission', 'Transmission_Type']\n",
        "\n",
        "# Perform One-Hot Encoding (creates binary columns for each category)\n",
        "df = pd.get_dummies(df, columns=categorical_columns, drop_first=True)\n",
        "\n",
        "# Check the transformed dataframe\n",
        "print(df.head())\n",
        "\n",
        "# --- Correlation Heatmap for Numeric Columns Only ---\n",
        "# Select only numeric columns for correlation matrix\n",
        "numeric_df = df.select_dtypes(include=[np.number])\n",
        "\n",
        "# Additional EDA: Correlation heatmap for numeric features\n",
        "plt.figure(figsize=(10, 8))\n",
        "sns.heatmap(numeric_df.corr(), annot=True, cmap='coolwarm', fmt='.2f')\n",
        "plt.title('Correlation Heatmap')\n",
        "plt.show()"
      ],
      "metadata": {
        "id": "1Z5LBMQ8zK20",
        "outputId": "cfefc4c5-a6fa-4d77-80d2-6cc7a149f9b8",
        "colab": {
          "base_uri": "https://localhost:8080/",
          "height": 1000
        }
      },
      "execution_count": 8,
      "outputs": [
        {
          "output_type": "stream",
          "name": "stdout",
          "text": [
            "   Unnamed: 0        Make  Make_Year   Color  Body_Type  Mileage_Run  \\\n",
            "0           1  Volkswagen       2017  silver      sedan        44611   \n",
            "1           2     Hyundai       2016     red  crossover        20305   \n",
            "2           3       Honda       2019   white        suv        29540   \n",
            "3           4     Renault       2017  bronze  hatchback        35680   \n",
            "4           5     Hyundai       2017  orange  hatchback        25126   \n",
            "\n",
            "  No_of_Owners  Seating_Capacity Fuel_Type Transmission Transmission_Type  \\\n",
            "0          1st                 5    diesel      7-Speed         Automatic   \n",
            "1          1st                 5    petrol      5-Speed            Manual   \n",
            "2          2nd                 5    petrol      5-Speed            Manual   \n",
            "3          1st                 5    petrol      5-Speed            Manual   \n",
            "4          1st                 5    petrol      5-Speed            Manual   \n",
            "\n",
            "    Price  \n",
            "0  657000  \n",
            "1  682000  \n",
            "2  793000  \n",
            "3  414000  \n",
            "4  515000  \n",
            "Unnamed: 0           0\n",
            "Make                 0\n",
            "Make_Year            0\n",
            "Color                0\n",
            "Body_Type            0\n",
            "Mileage_Run          0\n",
            "No_of_Owners         0\n",
            "Seating_Capacity     0\n",
            "Fuel_Type            0\n",
            "Transmission         0\n",
            "Transmission_Type    0\n",
            "Price                0\n",
            "dtype: int64\n",
            "Unnamed: 0            int64\n",
            "Make                 object\n",
            "Make_Year             int64\n",
            "Color                object\n",
            "Body_Type            object\n",
            "Mileage_Run           int64\n",
            "No_of_Owners         object\n",
            "Seating_Capacity      int64\n",
            "Fuel_Type            object\n",
            "Transmission         object\n",
            "Transmission_Type    object\n",
            "Price                 int64\n",
            "dtype: object\n",
            "       Unnamed: 0    Make_Year   Mileage_Run  Seating_Capacity         Price\n",
            "count  976.000000   976.000000    976.000000        976.000000  9.760000e+02\n",
            "mean   488.500000  2016.963115  41571.195697          5.095287  7.410195e+05\n",
            "std    281.891232     2.818742  24390.995134          0.446224  3.673234e+05\n",
            "min      1.000000  2011.000000   1117.000000          4.000000  1.880000e+05\n",
            "25%    244.750000  2015.000000  22676.750000          5.000000  4.757500e+05\n",
            "50%    488.500000  2017.000000  37570.500000          5.000000  6.665000e+05\n",
            "75%    732.250000  2019.000000  57421.250000          5.000000  8.830000e+05\n",
            "max    976.000000  2022.000000  99495.000000          8.000000  2.941000e+06\n",
            "   Unnamed: 0  Make_Year  Mileage_Run No_of_Owners  Seating_Capacity   Price  \\\n",
            "0           1       2017        44611          1st                 5  657000   \n",
            "1           2       2016        20305          1st                 5  682000   \n",
            "2           3       2019        29540          2nd                 5  793000   \n",
            "3           4       2017        35680          1st                 5  414000   \n",
            "4           5       2017        25126          1st                 5  515000   \n",
            "\n",
            "   Make_Datsun  Make_Ford  Make_Honda  Make_Hyundai  ...  Body_Type_muv  \\\n",
            "0        False      False       False         False  ...          False   \n",
            "1        False      False       False          True  ...          False   \n",
            "2        False      False        True         False  ...          False   \n",
            "3        False      False       False         False  ...          False   \n",
            "4        False      False       False          True  ...          False   \n",
            "\n",
            "   Body_Type_sedan  Body_Type_suv  Fuel_Type_petrol  Fuel_Type_petrol+cng  \\\n",
            "0             True          False             False                 False   \n",
            "1            False          False              True                 False   \n",
            "2            False           True              True                 False   \n",
            "3            False          False              True                 False   \n",
            "4            False          False              True                 False   \n",
            "\n",
            "   Transmission_5-Speed  Transmission_6-Speed  Transmission_7-Speed  \\\n",
            "0                 False                 False                  True   \n",
            "1                  True                 False                 False   \n",
            "2                  True                 False                 False   \n",
            "3                  True                 False                 False   \n",
            "4                  True                 False                 False   \n",
            "\n",
            "   Transmission_CVT  Transmission_Type_Manual  \n",
            "0             False                     False  \n",
            "1             False                      True  \n",
            "2             False                      True  \n",
            "3             False                      True  \n",
            "4             False                      True  \n",
            "\n",
            "[5 rows x 46 columns]\n"
          ]
        },
        {
          "output_type": "display_data",
          "data": {
            "text/plain": [
              "<Figure size 1000x800 with 2 Axes>"
            ],
            "image/png": "[encoded data removed]"
          },
          "metadata": {}
        }
      ]
    },
    {
      "cell_type": "code",
      "source": [
        "# Transform categorical variables using one-hot encoding\n",
        "df = pd.get_dummies(df, drop_first=True)\n",
        "\n",
        "# Check the transformed dataframe\n",
        "print(df.head())"
      ],
      "metadata": {
        "id": "V3ma2ZoU0u-Z",
        "outputId": "972f6558-f10d-41c6-9955-d0a46afe5cf6",
        "colab": {
          "base_uri": "https://localhost:8080/"
        }
      },
      "execution_count": 9,
      "outputs": [
        {
          "output_type": "stream",
          "name": "stdout",
          "text": [
            "   Unnamed: 0  Make_Year  Mileage_Run  Seating_Capacity   Price  Make_Datsun  \\\n",
            "0           1       2017        44611                 5  657000        False   \n",
            "1           2       2016        20305                 5  682000        False   \n",
            "2           3       2019        29540                 5  793000        False   \n",
            "3           4       2017        35680                 5  414000        False   \n",
            "4           5       2017        25126                 5  515000        False   \n",
            "\n",
            "   Make_Ford  Make_Honda  Make_Hyundai  Make_Jeep  ...  Body_Type_suv  \\\n",
            "0      False       False         False      False  ...          False   \n",
            "1      False       False          True      False  ...          False   \n",
            "2      False        True         False      False  ...           True   \n",
            "3      False       False         False      False  ...          False   \n",
            "4      False       False          True      False  ...          False   \n",
            "\n",
            "   Fuel_Type_petrol  Fuel_Type_petrol+cng  Transmission_5-Speed  \\\n",
            "0             False                 False                 False   \n",
            "1              True                 False                  True   \n",
            "2              True                 False                  True   \n",
            "3              True                 False                  True   \n",
            "4              True                 False                  True   \n",
            "\n",
            "   Transmission_6-Speed  Transmission_7-Speed  Transmission_CVT  \\\n",
            "0                 False                  True             False   \n",
            "1                 False                 False             False   \n",
            "2                 False                 False             False   \n",
            "3                 False                 False             False   \n",
            "4                 False                 False             False   \n",
            "\n",
            "   Transmission_Type_Manual  No_of_Owners_2nd  No_of_Owners_3rd  \n",
            "0                     False             False             False  \n",
            "1                      True             False             False  \n",
            "2                      True              True             False  \n",
            "3                      True             False             False  \n",
            "4                      True             False             False  \n",
            "\n",
            "[5 rows x 47 columns]\n"
          ]
        }
      ]
    },
    {
      "cell_type": "code",
      "source": [
        "from sklearn.model_selection import train_test_split\n",
        "\n",
        "# Define the features (X) and target variable (y)\n",
        "X = df.drop('Price', axis=1)\n",
        "y = df['Price']\n",
        "\n",
        "# Train-test split (80/20)\n",
        "X_train, X_test, y_train, y_test = train_test_split(X, y, test_size=0.2, random_state=42)\n",
        "\n",
        "print(f'Training data size: {X_train.shape[0]}')\n",
        "print(f'Test data size: {X_test.shape[0]}')"
      ],
      "metadata": {
        "id": "0t5Kmkg60yvG",
        "outputId": "b7045d24-00c6-41a2-8b07-8cbecaf73d7a",
        "colab": {
          "base_uri": "https://localhost:8080/"
        }
      },
      "execution_count": 10,
      "outputs": [
        {
          "output_type": "stream",
          "name": "stdout",
          "text": [
            "Training data size: 780\n",
            "Test data size: 196\n"
          ]
        }
      ]
    },
    {
      "cell_type": "code",
      "source": [
        "from sklearn.linear_model import LinearRegression\n",
        "from sklearn.metrics import mean_squared_error\n",
        "from sklearn.metrics import r2_score\n",
        "\n",
        "# Initialize the linear regression model\n",
        "model = LinearRegression()\n",
        "\n",
        "# Fit the model on the training data\n",
        "model.fit(X_train, y_train)\n",
        "\n",
        "# Predict on both training and test data\n",
        "y_train_pred = model.predict(X_train)\n",
        "y_test_pred = model.predict(X_test)\n",
        "\n",
        "# Calculate RMSE and R-squared for training and test data\n",
        "train_rmse = np.sqrt(mean_squared_error(y_train, y_train_pred))\n",
        "test_rmse = np.sqrt(mean_squared_error(y_test, y_test_pred))\n",
        "\n",
        "train_r2 = r2_score(y_train, y_train_pred)\n",
        "test_r2 = r2_score(y_test, y_test_pred)\n",
        "\n",
        "print(f'Training RMSE: {train_rmse}')\n",
        "print(f'Test RMSE: {test_rmse}')\n",
        "print(f'Training R-squared: {train_r2}')\n",
        "print(f'Test R-squared: {test_r2}')\n",
        "\n",
        "import statsmodels.api as sm\n",
        "from statsmodels.stats.outliers_influence import variance_inflation_factor\n",
        "\n",
        "# Add a constant to the features for statsmodels\n",
        "X_train_const = sm.add_constant(X_train)\n",
        "\n",
        "# Calculate the VIF for each feature\n",
        "vif = pd.DataFrame()\n",
        "vif['Feature'] = X_train_const.columns\n",
        "vif['VIF'] = [variance_inflation_factor(X_train_const.values, i) for i in range(X_train_const.shape[1])]\n",
        "\n",
        "print(vif)"
      ],
      "metadata": {
        "id": "2r45jfIi00lW",
        "outputId": "e4187d27-8d33-4228-c63b-f19dc8e04235",
        "colab": {
          "base_uri": "https://localhost:8080/",
          "height": 478
        }
      },
      "execution_count": 12,
      "outputs": [
        {
          "output_type": "stream",
          "name": "stdout",
          "text": [
            "Training RMSE: 141148.29204256524\n",
            "Test RMSE: 145117.5942619901\n",
            "Training R-squared: 0.8572664053124002\n",
            "Test R-squared: 0.8163910583949037\n"
          ]
        },
        {
          "output_type": "error",
          "ename": "TypeError",
          "evalue": "ufunc 'isfinite' not supported for the input types, and the inputs could not be safely coerced to any supported types according to the casting rule ''safe''",
          "traceback": [
            "\u001b[0;31m---------------------------------------------------------------------------\u001b[0m",
            "\u001b[0;31mTypeError\u001b[0m                                 Traceback (most recent call last)",
            "\u001b[0;32m<ipython-input-12-865c009d8ae8>\u001b[0m in \u001b[0;36m<cell line: 0>\u001b[0;34m()\u001b[0m\n\u001b[1;32m     34\u001b[0m \u001b[0mvif\u001b[0m \u001b[0;34m=\u001b[0m \u001b[0mpd\u001b[0m\u001b[0;34m.\u001b[0m\u001b[0mDataFrame\u001b[0m\u001b[0;34m(\u001b[0m\u001b[0;34m)\u001b[0m\u001b[0;34m\u001b[0m\u001b[0;34m\u001b[0m\u001b[0m\n\u001b[1;32m     35\u001b[0m \u001b[0mvif\u001b[0m\u001b[0;34m[\u001b[0m\u001b[0;34m'Feature'\u001b[0m\u001b[0;34m]\u001b[0m \u001b[0;34m=\u001b[0m \u001b[0mX_train_const\u001b[0m\u001b[0;34m.\u001b[0m\u001b[0mcolumns\u001b[0m\u001b[0;34m\u001b[0m\u001b[0;34m\u001b[0m\u001b[0m\n\u001b[0;32m---> 36\u001b[0;31m \u001b[0mvif\u001b[0m\u001b[0;34m[\u001b[0m\u001b[0;34m'VIF'\u001b[0m\u001b[0;34m]\u001b[0m \u001b[0;34m=\u001b[0m \u001b[0;34m[\u001b[0m\u001b[0mvariance_inflation_factor\u001b[0m\u001b[0;34m(\u001b[0m\u001b[0mX_train_const\u001b[0m\u001b[0;34m.\u001b[0m\u001b[0mvalues\u001b[0m\u001b[0;34m,\u001b[0m \u001b[0mi\u001b[0m\u001b[0;34m)\u001b[0m \u001b[0;32mfor\u001b[0m \u001b[0mi\u001b[0m \u001b[0;32min\u001b[0m \u001b[0mrange\u001b[0m\u001b[0;34m(\u001b[0m\u001b[0mX_train_const\u001b[0m\u001b[0;34m.\u001b[0m\u001b[0mshape\u001b[0m\u001b[0;34m[\u001b[0m\u001b[0;36m1\u001b[0m\u001b[0;34m]\u001b[0m\u001b[0;34m)\u001b[0m\u001b[0;34m]\u001b[0m\u001b[0;34m\u001b[0m\u001b[0;34m\u001b[0m\u001b[0m\n\u001b[0m\u001b[1;32m     37\u001b[0m \u001b[0;34m\u001b[0m\u001b[0m\n\u001b[1;32m     38\u001b[0m \u001b[0mprint\u001b[0m\u001b[0;34m(\u001b[0m\u001b[0mvif\u001b[0m\u001b[0;34m)\u001b[0m\u001b[0;34m\u001b[0m\u001b[0;34m\u001b[0m\u001b[0m\n",
            "\u001b[0;32m<ipython-input-12-865c009d8ae8>\u001b[0m in \u001b[0;36m<listcomp>\u001b[0;34m(.0)\u001b[0m\n\u001b[1;32m     34\u001b[0m \u001b[0mvif\u001b[0m \u001b[0;34m=\u001b[0m \u001b[0mpd\u001b[0m\u001b[0;34m.\u001b[0m\u001b[0mDataFrame\u001b[0m\u001b[0;34m(\u001b[0m\u001b[0;34m)\u001b[0m\u001b[0;34m\u001b[0m\u001b[0;34m\u001b[0m\u001b[0m\n\u001b[1;32m     35\u001b[0m \u001b[0mvif\u001b[0m\u001b[0;34m[\u001b[0m\u001b[0;34m'Feature'\u001b[0m\u001b[0;34m]\u001b[0m \u001b[0;34m=\u001b[0m \u001b[0mX_train_const\u001b[0m\u001b[0;34m.\u001b[0m\u001b[0mcolumns\u001b[0m\u001b[0;34m\u001b[0m\u001b[0;34m\u001b[0m\u001b[0m\n\u001b[0;32m---> 36\u001b[0;31m \u001b[0mvif\u001b[0m\u001b[0;34m[\u001b[0m\u001b[0;34m'VIF'\u001b[0m\u001b[0;34m]\u001b[0m \u001b[0;34m=\u001b[0m \u001b[0;34m[\u001b[0m\u001b[0mvariance_inflation_factor\u001b[0m\u001b[0;34m(\u001b[0m\u001b[0mX_train_const\u001b[0m\u001b[0;34m.\u001b[0m\u001b[0mvalues\u001b[0m\u001b[0;34m,\u001b[0m \u001b[0mi\u001b[0m\u001b[0;34m)\u001b[0m \u001b[0;32mfor\u001b[0m \u001b[0mi\u001b[0m \u001b[0;32min\u001b[0m \u001b[0mrange\u001b[0m\u001b[0;34m(\u001b[0m\u001b[0mX_train_const\u001b[0m\u001b[0;34m.\u001b[0m\u001b[0mshape\u001b[0m\u001b[0;34m[\u001b[0m\u001b[0;36m1\u001b[0m\u001b[0;34m]\u001b[0m\u001b[0;34m)\u001b[0m\u001b[0;34m]\u001b[0m\u001b[0;34m\u001b[0m\u001b[0;34m\u001b[0m\u001b[0m\n\u001b[0m\u001b[1;32m     37\u001b[0m \u001b[0;34m\u001b[0m\u001b[0m\n\u001b[1;32m     38\u001b[0m \u001b[0mprint\u001b[0m\u001b[0;34m(\u001b[0m\u001b[0mvif\u001b[0m\u001b[0;34m)\u001b[0m\u001b[0;34m\u001b[0m\u001b[0;34m\u001b[0m\u001b[0m\n",
            "\u001b[0;32m/usr/local/lib/python3.11/dist-packages/statsmodels/stats/outliers_influence.py\u001b[0m in \u001b[0;36mvariance_inflation_factor\u001b[0;34m(exog, exog_idx)\u001b[0m\n\u001b[1;32m    194\u001b[0m     \u001b[0mmask\u001b[0m \u001b[0;34m=\u001b[0m \u001b[0mnp\u001b[0m\u001b[0;34m.\u001b[0m\u001b[0marange\u001b[0m\u001b[0;34m(\u001b[0m\u001b[0mk_vars\u001b[0m\u001b[0;34m)\u001b[0m \u001b[0;34m!=\u001b[0m \u001b[0mexog_idx\u001b[0m\u001b[0;34m\u001b[0m\u001b[0;34m\u001b[0m\u001b[0m\n\u001b[1;32m    195\u001b[0m     \u001b[0mx_noti\u001b[0m \u001b[0;34m=\u001b[0m \u001b[0mexog\u001b[0m\u001b[0;34m[\u001b[0m\u001b[0;34m:\u001b[0m\u001b[0;34m,\u001b[0m \u001b[0mmask\u001b[0m\u001b[0;34m]\u001b[0m\u001b[0;34m\u001b[0m\u001b[0;34m\u001b[0m\u001b[0m\n\u001b[0;32m--> 196\u001b[0;31m     \u001b[0mr_squared_i\u001b[0m \u001b[0;34m=\u001b[0m \u001b[0mOLS\u001b[0m\u001b[0;34m(\u001b[0m\u001b[0mx_i\u001b[0m\u001b[0;34m,\u001b[0m \u001b[0mx_noti\u001b[0m\u001b[0;34m)\u001b[0m\u001b[0;34m.\u001b[0m\u001b[0mfit\u001b[0m\u001b[0;34m(\u001b[0m\u001b[0;34m)\u001b[0m\u001b[0;34m.\u001b[0m\u001b[0mrsquared\u001b[0m\u001b[0;34m\u001b[0m\u001b[0;34m\u001b[0m\u001b[0m\n\u001b[0m\u001b[1;32m    197\u001b[0m     \u001b[0mvif\u001b[0m \u001b[0;34m=\u001b[0m \u001b[0;36m1.\u001b[0m \u001b[0;34m/\u001b[0m \u001b[0;34m(\u001b[0m\u001b[0;36m1.\u001b[0m \u001b[0;34m-\u001b[0m \u001b[0mr_squared_i\u001b[0m\u001b[0;34m)\u001b[0m\u001b[0;34m\u001b[0m\u001b[0;34m\u001b[0m\u001b[0m\n\u001b[1;32m    198\u001b[0m     \u001b[0;32mreturn\u001b[0m \u001b[0mvif\u001b[0m\u001b[0;34m\u001b[0m\u001b[0;34m\u001b[0m\u001b[0m\n",
            "\u001b[0;32m/usr/local/lib/python3.11/dist-packages/statsmodels/regression/linear_model.py\u001b[0m in \u001b[0;36m__init__\u001b[0;34m(self, endog, exog, missing, hasconst, **kwargs)\u001b[0m\n\u001b[1;32m    919\u001b[0m                    \"An exception will be raised in the next version.\")\n\u001b[1;32m    920\u001b[0m             \u001b[0mwarnings\u001b[0m\u001b[0;34m.\u001b[0m\u001b[0mwarn\u001b[0m\u001b[0;34m(\u001b[0m\u001b[0mmsg\u001b[0m\u001b[0;34m,\u001b[0m \u001b[0mValueWarning\u001b[0m\u001b[0;34m)\u001b[0m\u001b[0;34m\u001b[0m\u001b[0;34m\u001b[0m\u001b[0m\n\u001b[0;32m--> 921\u001b[0;31m         super().__init__(endog, exog, missing=missing,\n\u001b[0m\u001b[1;32m    922\u001b[0m                                   hasconst=hasconst, **kwargs)\n\u001b[1;32m    923\u001b[0m         \u001b[0;32mif\u001b[0m \u001b[0;34m\"weights\"\u001b[0m \u001b[0;32min\u001b[0m \u001b[0mself\u001b[0m\u001b[0;34m.\u001b[0m\u001b[0m_init_keys\u001b[0m\u001b[0;34m:\u001b[0m\u001b[0;34m\u001b[0m\u001b[0;34m\u001b[0m\u001b[0m\n",
            "\u001b[0;32m/usr/local/lib/python3.11/dist-packages/statsmodels/regression/linear_model.py\u001b[0m in \u001b[0;36m__init__\u001b[0;34m(self, endog, exog, weights, missing, hasconst, **kwargs)\u001b[0m\n\u001b[1;32m    744\u001b[0m         \u001b[0;32melse\u001b[0m\u001b[0;34m:\u001b[0m\u001b[0;34m\u001b[0m\u001b[0;34m\u001b[0m\u001b[0m\n\u001b[1;32m    745\u001b[0m             \u001b[0mweights\u001b[0m \u001b[0;34m=\u001b[0m \u001b[0mweights\u001b[0m\u001b[0;34m.\u001b[0m\u001b[0msqueeze\u001b[0m\u001b[0;34m(\u001b[0m\u001b[0;34m)\u001b[0m\u001b[0;34m\u001b[0m\u001b[0;34m\u001b[0m\u001b[0m\n\u001b[0;32m--> 746\u001b[0;31m         super().__init__(endog, exog, missing=missing,\n\u001b[0m\u001b[1;32m    747\u001b[0m                                   weights=weights, hasconst=hasconst, **kwargs)\n\u001b[1;32m    748\u001b[0m         \u001b[0mnobs\u001b[0m \u001b[0;34m=\u001b[0m \u001b[0mself\u001b[0m\u001b[0;34m.\u001b[0m\u001b[0mexog\u001b[0m\u001b[0;34m.\u001b[0m\u001b[0mshape\u001b[0m\u001b[0;34m[\u001b[0m\u001b[0;36m0\u001b[0m\u001b[0;34m]\u001b[0m\u001b[0;34m\u001b[0m\u001b[0;34m\u001b[0m\u001b[0m\n",
            "\u001b[0;32m/usr/local/lib/python3.11/dist-packages/statsmodels/regression/linear_model.py\u001b[0m in \u001b[0;36m__init__\u001b[0;34m(self, endog, exog, **kwargs)\u001b[0m\n\u001b[1;32m    198\u001b[0m     \"\"\"\n\u001b[1;32m    199\u001b[0m     \u001b[0;32mdef\u001b[0m \u001b[0m__init__\u001b[0m\u001b[0;34m(\u001b[0m\u001b[0mself\u001b[0m\u001b[0;34m,\u001b[0m \u001b[0mendog\u001b[0m\u001b[0;34m,\u001b[0m \u001b[0mexog\u001b[0m\u001b[0;34m,\u001b[0m \u001b[0;34m**\u001b[0m\u001b[0mkwargs\u001b[0m\u001b[0;34m)\u001b[0m\u001b[0;34m:\u001b[0m\u001b[0;34m\u001b[0m\u001b[0;34m\u001b[0m\u001b[0m\n\u001b[0;32m--> 200\u001b[0;31m         \u001b[0msuper\u001b[0m\u001b[0;34m(\u001b[0m\u001b[0;34m)\u001b[0m\u001b[0;34m.\u001b[0m\u001b[0m__init__\u001b[0m\u001b[0;34m(\u001b[0m\u001b[0mendog\u001b[0m\u001b[0;34m,\u001b[0m \u001b[0mexog\u001b[0m\u001b[0;34m,\u001b[0m \u001b[0;34m**\u001b[0m\u001b[0mkwargs\u001b[0m\u001b[0;34m)\u001b[0m\u001b[0;34m\u001b[0m\u001b[0;34m\u001b[0m\u001b[0m\n\u001b[0m\u001b[1;32m    201\u001b[0m         \u001b[0mself\u001b[0m\u001b[0;34m.\u001b[0m\u001b[0mpinv_wexog\u001b[0m\u001b[0;34m:\u001b[0m \u001b[0mFloat64Array\u001b[0m \u001b[0;34m|\u001b[0m \u001b[0;32mNone\u001b[0m \u001b[0;34m=\u001b[0m \u001b[0;32mNone\u001b[0m\u001b[0;34m\u001b[0m\u001b[0;34m\u001b[0m\u001b[0m\n\u001b[1;32m    202\u001b[0m         \u001b[0mself\u001b[0m\u001b[0;34m.\u001b[0m\u001b[0m_data_attr\u001b[0m\u001b[0;34m.\u001b[0m\u001b[0mextend\u001b[0m\u001b[0;34m(\u001b[0m\u001b[0;34m[\u001b[0m\u001b[0;34m'pinv_wexog'\u001b[0m\u001b[0;34m,\u001b[0m \u001b[0;34m'wendog'\u001b[0m\u001b[0;34m,\u001b[0m \u001b[0;34m'wexog'\u001b[0m\u001b[0;34m,\u001b[0m \u001b[0;34m'weights'\u001b[0m\u001b[0;34m]\u001b[0m\u001b[0;34m)\u001b[0m\u001b[0;34m\u001b[0m\u001b[0;34m\u001b[0m\u001b[0m\n",
            "\u001b[0;32m/usr/local/lib/python3.11/dist-packages/statsmodels/base/model.py\u001b[0m in \u001b[0;36m__init__\u001b[0;34m(self, endog, exog, **kwargs)\u001b[0m\n\u001b[1;32m    268\u001b[0m \u001b[0;34m\u001b[0m\u001b[0m\n\u001b[1;32m    269\u001b[0m     \u001b[0;32mdef\u001b[0m \u001b[0m__init__\u001b[0m\u001b[0;34m(\u001b[0m\u001b[0mself\u001b[0m\u001b[0;34m,\u001b[0m \u001b[0mendog\u001b[0m\u001b[0;34m,\u001b[0m \u001b[0mexog\u001b[0m\u001b[0;34m=\u001b[0m\u001b[0;32mNone\u001b[0m\u001b[0;34m,\u001b[0m \u001b[0;34m**\u001b[0m\u001b[0mkwargs\u001b[0m\u001b[0;34m)\u001b[0m\u001b[0;34m:\u001b[0m\u001b[0;34m\u001b[0m\u001b[0;34m\u001b[0m\u001b[0m\n\u001b[0;32m--> 270\u001b[0;31m         \u001b[0msuper\u001b[0m\u001b[0;34m(\u001b[0m\u001b[0;34m)\u001b[0m\u001b[0;34m.\u001b[0m\u001b[0m__init__\u001b[0m\u001b[0;34m(\u001b[0m\u001b[0mendog\u001b[0m\u001b[0;34m,\u001b[0m \u001b[0mexog\u001b[0m\u001b[0;34m,\u001b[0m \u001b[0;34m**\u001b[0m\u001b[0mkwargs\u001b[0m\u001b[0;34m)\u001b[0m\u001b[0;34m\u001b[0m\u001b[0;34m\u001b[0m\u001b[0m\n\u001b[0m\u001b[1;32m    271\u001b[0m         \u001b[0mself\u001b[0m\u001b[0;34m.\u001b[0m\u001b[0minitialize\u001b[0m\u001b[0;34m(\u001b[0m\u001b[0;34m)\u001b[0m\u001b[0;34m\u001b[0m\u001b[0;34m\u001b[0m\u001b[0m\n\u001b[1;32m    272\u001b[0m \u001b[0;34m\u001b[0m\u001b[0m\n",
            "\u001b[0;32m/usr/local/lib/python3.11/dist-packages/statsmodels/base/model.py\u001b[0m in \u001b[0;36m__init__\u001b[0;34m(self, endog, exog, **kwargs)\u001b[0m\n\u001b[1;32m     93\u001b[0m         \u001b[0mmissing\u001b[0m \u001b[0;34m=\u001b[0m \u001b[0mkwargs\u001b[0m\u001b[0;34m.\u001b[0m\u001b[0mpop\u001b[0m\u001b[0;34m(\u001b[0m\u001b[0;34m'missing'\u001b[0m\u001b[0;34m,\u001b[0m \u001b[0;34m'none'\u001b[0m\u001b[0;34m)\u001b[0m\u001b[0;34m\u001b[0m\u001b[0;34m\u001b[0m\u001b[0m\n\u001b[1;32m     94\u001b[0m         \u001b[0mhasconst\u001b[0m \u001b[0;34m=\u001b[0m \u001b[0mkwargs\u001b[0m\u001b[0;34m.\u001b[0m\u001b[0mpop\u001b[0m\u001b[0;34m(\u001b[0m\u001b[0;34m'hasconst'\u001b[0m\u001b[0;34m,\u001b[0m \u001b[0;32mNone\u001b[0m\u001b[0;34m)\u001b[0m\u001b[0;34m\u001b[0m\u001b[0;34m\u001b[0m\u001b[0m\n\u001b[0;32m---> 95\u001b[0;31m         self.data = self._handle_data(endog, exog, missing, hasconst,\n\u001b[0m\u001b[1;32m     96\u001b[0m                                       **kwargs)\n\u001b[1;32m     97\u001b[0m         \u001b[0mself\u001b[0m\u001b[0;34m.\u001b[0m\u001b[0mk_constant\u001b[0m \u001b[0;34m=\u001b[0m \u001b[0mself\u001b[0m\u001b[0;34m.\u001b[0m\u001b[0mdata\u001b[0m\u001b[0;34m.\u001b[0m\u001b[0mk_constant\u001b[0m\u001b[0;34m\u001b[0m\u001b[0;34m\u001b[0m\u001b[0m\n",
            "\u001b[0;32m/usr/local/lib/python3.11/dist-packages/statsmodels/base/model.py\u001b[0m in \u001b[0;36m_handle_data\u001b[0;34m(self, endog, exog, missing, hasconst, **kwargs)\u001b[0m\n\u001b[1;32m    133\u001b[0m \u001b[0;34m\u001b[0m\u001b[0m\n\u001b[1;32m    134\u001b[0m     \u001b[0;32mdef\u001b[0m \u001b[0m_handle_data\u001b[0m\u001b[0;34m(\u001b[0m\u001b[0mself\u001b[0m\u001b[0;34m,\u001b[0m \u001b[0mendog\u001b[0m\u001b[0;34m,\u001b[0m \u001b[0mexog\u001b[0m\u001b[0;34m,\u001b[0m \u001b[0mmissing\u001b[0m\u001b[0;34m,\u001b[0m \u001b[0mhasconst\u001b[0m\u001b[0;34m,\u001b[0m \u001b[0;34m**\u001b[0m\u001b[0mkwargs\u001b[0m\u001b[0;34m)\u001b[0m\u001b[0;34m:\u001b[0m\u001b[0;34m\u001b[0m\u001b[0;34m\u001b[0m\u001b[0m\n\u001b[0;32m--> 135\u001b[0;31m         \u001b[0mdata\u001b[0m \u001b[0;34m=\u001b[0m \u001b[0mhandle_data\u001b[0m\u001b[0;34m(\u001b[0m\u001b[0mendog\u001b[0m\u001b[0;34m,\u001b[0m \u001b[0mexog\u001b[0m\u001b[0;34m,\u001b[0m \u001b[0mmissing\u001b[0m\u001b[0;34m,\u001b[0m \u001b[0mhasconst\u001b[0m\u001b[0;34m,\u001b[0m \u001b[0;34m**\u001b[0m\u001b[0mkwargs\u001b[0m\u001b[0;34m)\u001b[0m\u001b[0;34m\u001b[0m\u001b[0;34m\u001b[0m\u001b[0m\n\u001b[0m\u001b[1;32m    136\u001b[0m         \u001b[0;31m# kwargs arrays could have changed, easier to just attach here\u001b[0m\u001b[0;34m\u001b[0m\u001b[0;34m\u001b[0m\u001b[0m\n\u001b[1;32m    137\u001b[0m         \u001b[0;32mfor\u001b[0m \u001b[0mkey\u001b[0m \u001b[0;32min\u001b[0m \u001b[0mkwargs\u001b[0m\u001b[0;34m:\u001b[0m\u001b[0;34m\u001b[0m\u001b[0;34m\u001b[0m\u001b[0m\n",
            "\u001b[0;32m/usr/local/lib/python3.11/dist-packages/statsmodels/base/data.py\u001b[0m in \u001b[0;36mhandle_data\u001b[0;34m(endog, exog, missing, hasconst, **kwargs)\u001b[0m\n\u001b[1;32m    673\u001b[0m \u001b[0;34m\u001b[0m\u001b[0m\n\u001b[1;32m    674\u001b[0m     \u001b[0mklass\u001b[0m \u001b[0;34m=\u001b[0m \u001b[0mhandle_data_class_factory\u001b[0m\u001b[0;34m(\u001b[0m\u001b[0mendog\u001b[0m\u001b[0;34m,\u001b[0m \u001b[0mexog\u001b[0m\u001b[0;34m)\u001b[0m\u001b[0;34m\u001b[0m\u001b[0;34m\u001b[0m\u001b[0m\n\u001b[0;32m--> 675\u001b[0;31m     return klass(endog, exog=exog, missing=missing, hasconst=hasconst,\n\u001b[0m\u001b[1;32m    676\u001b[0m                  **kwargs)\n",
            "\u001b[0;32m/usr/local/lib/python3.11/dist-packages/statsmodels/base/data.py\u001b[0m in \u001b[0;36m__init__\u001b[0;34m(self, endog, exog, missing, hasconst, **kwargs)\u001b[0m\n\u001b[1;32m     86\u001b[0m         \u001b[0mself\u001b[0m\u001b[0;34m.\u001b[0m\u001b[0mconst_idx\u001b[0m \u001b[0;34m=\u001b[0m \u001b[0;32mNone\u001b[0m\u001b[0;34m\u001b[0m\u001b[0;34m\u001b[0m\u001b[0m\n\u001b[1;32m     87\u001b[0m         \u001b[0mself\u001b[0m\u001b[0;34m.\u001b[0m\u001b[0mk_constant\u001b[0m \u001b[0;34m=\u001b[0m \u001b[0;36m0\u001b[0m\u001b[0;34m\u001b[0m\u001b[0;34m\u001b[0m\u001b[0m\n\u001b[0;32m---> 88\u001b[0;31m         \u001b[0mself\u001b[0m\u001b[0;34m.\u001b[0m\u001b[0m_handle_constant\u001b[0m\u001b[0;34m(\u001b[0m\u001b[0mhasconst\u001b[0m\u001b[0;34m)\u001b[0m\u001b[0;34m\u001b[0m\u001b[0;34m\u001b[0m\u001b[0m\n\u001b[0m\u001b[1;32m     89\u001b[0m         \u001b[0mself\u001b[0m\u001b[0;34m.\u001b[0m\u001b[0m_check_integrity\u001b[0m\u001b[0;34m(\u001b[0m\u001b[0;34m)\u001b[0m\u001b[0;34m\u001b[0m\u001b[0;34m\u001b[0m\u001b[0m\n\u001b[1;32m     90\u001b[0m         \u001b[0mself\u001b[0m\u001b[0;34m.\u001b[0m\u001b[0m_cache\u001b[0m \u001b[0;34m=\u001b[0m \u001b[0;34m{\u001b[0m\u001b[0;34m}\u001b[0m\u001b[0;34m\u001b[0m\u001b[0;34m\u001b[0m\u001b[0m\n",
            "\u001b[0;32m/usr/local/lib/python3.11/dist-packages/statsmodels/base/data.py\u001b[0m in \u001b[0;36m_handle_constant\u001b[0;34m(self, hasconst)\u001b[0m\n\u001b[1;32m    131\u001b[0m             \u001b[0mcheck_implicit\u001b[0m \u001b[0;34m=\u001b[0m \u001b[0;32mFalse\u001b[0m\u001b[0;34m\u001b[0m\u001b[0;34m\u001b[0m\u001b[0m\n\u001b[1;32m    132\u001b[0m             \u001b[0mexog_max\u001b[0m \u001b[0;34m=\u001b[0m \u001b[0mnp\u001b[0m\u001b[0;34m.\u001b[0m\u001b[0mmax\u001b[0m\u001b[0;34m(\u001b[0m\u001b[0mself\u001b[0m\u001b[0;34m.\u001b[0m\u001b[0mexog\u001b[0m\u001b[0;34m,\u001b[0m \u001b[0maxis\u001b[0m\u001b[0;34m=\u001b[0m\u001b[0;36m0\u001b[0m\u001b[0;34m)\u001b[0m\u001b[0;34m\u001b[0m\u001b[0;34m\u001b[0m\u001b[0m\n\u001b[0;32m--> 133\u001b[0;31m             \u001b[0;32mif\u001b[0m \u001b[0;32mnot\u001b[0m \u001b[0mnp\u001b[0m\u001b[0;34m.\u001b[0m\u001b[0misfinite\u001b[0m\u001b[0;34m(\u001b[0m\u001b[0mexog_max\u001b[0m\u001b[0;34m)\u001b[0m\u001b[0;34m.\u001b[0m\u001b[0mall\u001b[0m\u001b[0;34m(\u001b[0m\u001b[0;34m)\u001b[0m\u001b[0;34m:\u001b[0m\u001b[0;34m\u001b[0m\u001b[0;34m\u001b[0m\u001b[0m\n\u001b[0m\u001b[1;32m    134\u001b[0m                 \u001b[0;32mraise\u001b[0m \u001b[0mMissingDataError\u001b[0m\u001b[0;34m(\u001b[0m\u001b[0;34m'exog contains inf or nans'\u001b[0m\u001b[0;34m)\u001b[0m\u001b[0;34m\u001b[0m\u001b[0;34m\u001b[0m\u001b[0m\n\u001b[1;32m    135\u001b[0m             \u001b[0mexog_min\u001b[0m \u001b[0;34m=\u001b[0m \u001b[0mnp\u001b[0m\u001b[0;34m.\u001b[0m\u001b[0mmin\u001b[0m\u001b[0;34m(\u001b[0m\u001b[0mself\u001b[0m\u001b[0;34m.\u001b[0m\u001b[0mexog\u001b[0m\u001b[0;34m,\u001b[0m \u001b[0maxis\u001b[0m\u001b[0;34m=\u001b[0m\u001b[0;36m0\u001b[0m\u001b[0;34m)\u001b[0m\u001b[0;34m\u001b[0m\u001b[0;34m\u001b[0m\u001b[0m\n",
            "\u001b[0;31mTypeError\u001b[0m: ufunc 'isfinite' not supported for the input types, and the inputs could not be safely coerced to any supported types according to the casting rule ''safe''"
          ]
        }
      ]
    },
    {
      "cell_type": "code",
      "source": [
        "from sklearn.preprocessing import PolynomialFeatures\n",
        "\n",
        "# Apply PolynomialFeatures to capture non-linearity (e.g., quadratic terms)\n",
        "poly = PolynomialFeatures(degree=2, include_bias=False)\n",
        "X_train_poly = poly.fit_transform(X_train)\n",
        "X_test_poly = poly.transform(X_test)\n",
        "\n",
        "# Train a new model with polynomial features\n",
        "model_poly = LinearRegression()\n",
        "model_poly.fit(X_train_poly, y_train)\n",
        "\n",
        "# Predict and evaluate the new model\n",
        "y_train_poly_pred = model_poly.predict(X_train_poly)\n",
        "y_test_poly_pred = model_poly.predict(X_test_poly)\n",
        "\n",
        "train_poly_rmse = np.sqrt(mean_squared_error(y_train, y_train_poly_pred))\n",
        "test_poly_rmse = np.sqrt(mean_squared_error(y_test, y_test_poly_pred))\n",
        "\n",
        "train_poly_r2 = r2_score(y_train, y_train_poly_pred)\n",
        "test_poly_r2 = r2_score(y_test, y_test_poly_pred)\n",
        "\n",
        "print(f'Polynomial Model - Training RMSE: {train_poly_rmse}')\n",
        "print(f'Polynomial Model - Test RMSE: {test_poly_rmse}')\n",
        "print(f'Polynomial Model - Training R-squared: {train_poly_r2}')\n",
        "print(f'Polynomial Model - Test R-squared: {test_poly_r2}')"
      ],
      "metadata": {
        "id": "97V8FqvW06Po",
        "outputId": "eccf3a09-f09f-44ff-9160-4a3859d4b5f4",
        "colab": {
          "base_uri": "https://localhost:8080/"
        }
      },
      "execution_count": 13,
      "outputs": [
        {
          "output_type": "stream",
          "name": "stdout",
          "text": [
            "Polynomial Model - Training RMSE: 74781.46297013156\n",
            "Polynomial Model - Test RMSE: 2359102.797810429\n",
            "Polynomial Model - Training R-squared: 0.9599352107134312\n",
            "Polynomial Model - Test R-squared: -47.52297479540267\n"
          ]
        }
      ]
    },
    {
      "cell_type": "code",
      "source": [
        "from sklearn.linear_model import Lasso\n",
        "\n",
        "# Initialize the Lasso model\n",
        "lasso = Lasso(alpha=0.1)\n",
        "\n",
        "# Fit the model\n",
        "lasso.fit(X_train, y_train)\n",
        "\n",
        "# Predict and evaluate the Lasso model\n",
        "y_train_lasso_pred = lasso.predict(X_train)\n",
        "y_test_lasso_pred = lasso.predict(X_test)\n",
        "\n",
        "train_lasso_rmse = np.sqrt(mean_squared_error(y_train, y_train_lasso_pred))\n",
        "test_lasso_rmse = np.sqrt(mean_squared_error(y_test, y_test_lasso_pred))\n",
        "\n",
        "train_lasso_r2 = r2_score(y_train, y_train_lasso_pred)\n",
        "test_lasso_r2 = r2_score(y_test, y_test_lasso_pred)\n",
        "\n",
        "print(f'Lasso Model - Training RMSE: {train_lasso_rmse}')\n",
        "print(f'Lasso Model - Test RMSE: {test_lasso_rmse}')\n",
        "print(f'Lasso Model - Training R-squared: {train_lasso_r2}')\n",
        "print(f'Lasso Model - Test R-squared: {test_lasso_r2}')\n",
        "\n",
        "# Get the features selected by Lasso\n",
        "selected_features = X.columns[lasso.coef_ != 0]\n",
        "print(f'Selected features by Lasso: {selected_features}')"
      ],
      "metadata": {
        "id": "KeVQFVf-0_-l",
        "outputId": "98f18933-1f92-453b-b51e-15fc2691af66",
        "colab": {
          "base_uri": "https://localhost:8080/"
        }
      },
      "execution_count": 14,
      "outputs": [
        {
          "output_type": "stream",
          "name": "stdout",
          "text": [
            "Lasso Model - Training RMSE: 141148.29442510798\n",
            "Lasso Model - Test RMSE: 145117.69235875492\n",
            "Lasso Model - Training R-squared: 0.8572664004937958\n",
            "Lasso Model - Test R-squared: 0.8163908101624362\n",
            "Selected features by Lasso: Index(['Unnamed: 0', 'Make_Year', 'Mileage_Run', 'Seating_Capacity',\n",
            "       'Make_Datsun', 'Make_Ford', 'Make_Honda', 'Make_Hyundai', 'Make_Jeep',\n",
            "       'Make_Kia', 'Make_MG Motors', 'Make_Mahindra', 'Make_Maruti Suzuki',\n",
            "       'Make_Nissan', 'Make_Renault', 'Make_Skoda', 'Make_Tata', 'Make_Toyota',\n",
            "       'Make_Volkswagen', 'Color_black', 'Color_blue', 'Color_bronze',\n",
            "       'Color_brown', 'Color_golden', 'Color_green', 'Color_grey',\n",
            "       'Color_maroon', 'Color_orange', 'Color_purple', 'Color_red',\n",
            "       'Color_silver', 'Color_white', 'Color_yellow', 'Body_Type_hatchback',\n",
            "       'Body_Type_muv', 'Body_Type_sedan', 'Body_Type_suv', 'Fuel_Type_petrol',\n",
            "       'Fuel_Type_petrol+cng', 'Transmission_5-Speed', 'Transmission_6-Speed',\n",
            "       'Transmission_7-Speed', 'Transmission_CVT', 'Transmission_Type_Manual',\n",
            "       'No_of_Owners_2nd', 'No_of_Owners_3rd'],\n",
            "      dtype='object')\n"
          ]
        },
        {
          "output_type": "stream",
          "name": "stderr",
          "text": [
            "/usr/local/lib/python3.11/dist-packages/sklearn/linear_model/_coordinate_descent.py:695: ConvergenceWarning: Objective did not converge. You might want to increase the number of iterations, check the scale of the features or consider increasing regularisation. Duality gap: 5.026e+12, tolerance: 1.089e+10\n",
            "  model = cd_fast.enet_coordinate_descent(\n"
          ]
        }
      ]
    },
    {
      "cell_type": "markdown",
      "source": [
        "Summarize the performance of the models:\n",
        "\n",
        "Simple linear regression: Shows basic prediction accuracy.\n",
        "\n",
        "Polynomial regression: Can improve model performance if non-linear relationships are present.\n",
        "\n",
        "Lasso regression: Helps to reduce the complexity of the model by regularizing it and selecting the most relevant features.\n",
        "\n"
      ],
      "metadata": {
        "id": "B7SbiwwH1EWp"
      }
    },
    {
      "cell_type": "markdown",
      "source": [
        "Ack: I used ChatGPT to help me with this assignment"
      ],
      "metadata": {
        "id": "_STu5rsI1GCw"
      }
    }
  ],
  "metadata": {
    "kernelspec": {
      "display_name": "base",
      "language": "python",
      "name": "python3"
    },
    "language_info": {
      "codemirror_mode": {
        "name": "ipython",
        "version": 3
      },
      "file_extension": ".py",
      "mimetype": "text/x-python",
      "name": "python",
      "nbconvert_exporter": "python",
      "pygments_lexer": "ipython3",
      "version": "3.12.2"
    },
    "colab": {
      "provenance": []
    }
  },
  "nbformat": 4,
  "nbformat_minor": 0
}